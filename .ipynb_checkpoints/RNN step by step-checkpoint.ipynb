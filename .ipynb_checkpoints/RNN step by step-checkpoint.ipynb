{
 "cells": [
  {
   "cell_type": "markdown",
   "id": "c84d6803",
   "metadata": {},
   "source": [
    "# RNN step by step"
   ]
  },
  {
   "cell_type": "code",
   "execution_count": 1,
   "id": "b82bc252",
   "metadata": {},
   "outputs": [],
   "source": [
    "import pandas as pd\n",
    "import numpy as np\n",
    "import matplotlib.pyplot as plt\n",
    "import seaborn as sns"
   ]
  },
  {
   "cell_type": "markdown",
   "id": "b9365677",
   "metadata": {},
   "source": [
    "## Importing the training set"
   ]
  },
  {
   "cell_type": "code",
   "execution_count": 2,
   "id": "d83c745d",
   "metadata": {},
   "outputs": [
    {
     "data": {
      "text/html": [
       "<div>\n",
       "<style scoped>\n",
       "    .dataframe tbody tr th:only-of-type {\n",
       "        vertical-align: middle;\n",
       "    }\n",
       "\n",
       "    .dataframe tbody tr th {\n",
       "        vertical-align: top;\n",
       "    }\n",
       "\n",
       "    .dataframe thead th {\n",
       "        text-align: right;\n",
       "    }\n",
       "</style>\n",
       "<table border=\"1\" class=\"dataframe\">\n",
       "  <thead>\n",
       "    <tr style=\"text-align: right;\">\n",
       "      <th></th>\n",
       "      <th>Date</th>\n",
       "      <th>Open</th>\n",
       "      <th>High</th>\n",
       "      <th>Low</th>\n",
       "      <th>Close</th>\n",
       "      <th>Volume</th>\n",
       "    </tr>\n",
       "  </thead>\n",
       "  <tbody>\n",
       "    <tr>\n",
       "      <th>1253</th>\n",
       "      <td>12/23/2016</td>\n",
       "      <td>790.90</td>\n",
       "      <td>792.74</td>\n",
       "      <td>787.28</td>\n",
       "      <td>789.91</td>\n",
       "      <td>623,400</td>\n",
       "    </tr>\n",
       "    <tr>\n",
       "      <th>1254</th>\n",
       "      <td>12/27/2016</td>\n",
       "      <td>790.68</td>\n",
       "      <td>797.86</td>\n",
       "      <td>787.66</td>\n",
       "      <td>791.55</td>\n",
       "      <td>789,100</td>\n",
       "    </tr>\n",
       "    <tr>\n",
       "      <th>1255</th>\n",
       "      <td>12/28/2016</td>\n",
       "      <td>793.70</td>\n",
       "      <td>794.23</td>\n",
       "      <td>783.20</td>\n",
       "      <td>785.05</td>\n",
       "      <td>1,153,800</td>\n",
       "    </tr>\n",
       "    <tr>\n",
       "      <th>1256</th>\n",
       "      <td>12/29/2016</td>\n",
       "      <td>783.33</td>\n",
       "      <td>785.93</td>\n",
       "      <td>778.92</td>\n",
       "      <td>782.79</td>\n",
       "      <td>744,300</td>\n",
       "    </tr>\n",
       "    <tr>\n",
       "      <th>1257</th>\n",
       "      <td>12/30/2016</td>\n",
       "      <td>782.75</td>\n",
       "      <td>782.78</td>\n",
       "      <td>770.41</td>\n",
       "      <td>771.82</td>\n",
       "      <td>1,770,000</td>\n",
       "    </tr>\n",
       "  </tbody>\n",
       "</table>\n",
       "</div>"
      ],
      "text/plain": [
       "            Date    Open    High     Low   Close     Volume\n",
       "1253  12/23/2016  790.90  792.74  787.28  789.91    623,400\n",
       "1254  12/27/2016  790.68  797.86  787.66  791.55    789,100\n",
       "1255  12/28/2016  793.70  794.23  783.20  785.05  1,153,800\n",
       "1256  12/29/2016  783.33  785.93  778.92  782.79    744,300\n",
       "1257  12/30/2016  782.75  782.78  770.41  771.82  1,770,000"
      ]
     },
     "execution_count": 2,
     "metadata": {},
     "output_type": "execute_result"
    }
   ],
   "source": [
    "df = pd.read_csv('dataset/Google_Stock_Price_Train.csv')\n",
    "df.tail()"
   ]
  },
  {
   "cell_type": "code",
   "execution_count": 3,
   "id": "256b7866",
   "metadata": {},
   "outputs": [],
   "source": [
    "# df = pd.read_csv('dataset/Google_Stock_Price_Test.csv')\n",
    "# df.head()"
   ]
  },
  {
   "cell_type": "code",
   "execution_count": 4,
   "id": "eb10c683",
   "metadata": {},
   "outputs": [],
   "source": [
    "train_set = df.iloc[:,1:2].values\n",
    "# train_set"
   ]
  },
  {
   "cell_type": "markdown",
   "id": "a7a27b43",
   "metadata": {},
   "source": [
    "## Feature scaling\n",
    "Among standardisation and normalization, normalization is best suited for RNN. As we have sigmoid activation function in the output layer."
   ]
  },
  {
   "cell_type": "code",
   "execution_count": 5,
   "id": "bc4c0d17",
   "metadata": {},
   "outputs": [],
   "source": [
    "from sklearn.preprocessing import MinMaxScaler\n",
    "scaler = MinMaxScaler()\n",
    "scaled_train_set = scaler.fit_transform(train_set)"
   ]
  },
  {
   "cell_type": "markdown",
   "id": "de02106e",
   "metadata": {},
   "source": [
    "## Creating special a data structure with 60 timestamps and 1 output"
   ]
  },
  {
   "cell_type": "code",
   "execution_count": 6,
   "id": "120b205a",
   "metadata": {},
   "outputs": [],
   "source": [
    "X_train = []\n",
    "y_train = []\n",
    "for i in range(60,1258):\n",
    "    \"\"\"\n",
    "    X_train will have 60 samples.\n",
    "    y_train will have the 61st sample.\n",
    "    \n",
    "    Here we start with i-60 (where i=60; so i-60 becomes 0) to i (i=60).\n",
    "    the upper bound is excluded so it will take from 0 to 59th index. Total 60 values.\n",
    "    \n",
    "    Then the y_train will have the 61st element. So the the index will be 60.\n",
    "    Because the lower bound is included. Index 60 means 61st element.\n",
    "    \"\"\"\n",
    "    X_train.append(scaled_train_set[i-60:i, 0])\n",
    "    y_train.append(scaled_train_set[i, 0])\n",
    "\"\"\"\n",
    "Converting X_train and y_train into numpy arrays\n",
    "because we need to feed np array into our RNN\n",
    "\"\"\"\n",
    "X_train = np.array(X_train)\n",
    "y_train = np.array(y_train)"
   ]
  },
  {
   "cell_type": "code",
   "execution_count": 7,
   "id": "3c54e497",
   "metadata": {},
   "outputs": [
    {
     "data": {
      "text/plain": [
       "array([0.08581368, 0.09701243, 0.09433366, 0.09156187, 0.07984225,\n",
       "       0.0643277 , 0.0585423 , 0.06568569, 0.06109085, 0.06639259,\n",
       "       0.0614257 , 0.07474514, 0.02797827, 0.02379269, 0.02409033,\n",
       "       0.0159238 , 0.01078949, 0.00967334, 0.01642607, 0.02100231,\n",
       "       0.02280676, 0.02273235, 0.02810849, 0.03212665, 0.0433812 ,\n",
       "       0.04475779, 0.04790163, 0.0440695 , 0.04648783, 0.04745517,\n",
       "       0.04873875, 0.03936305, 0.04137213, 0.04034898, 0.04784582,\n",
       "       0.04325099, 0.04356723, 0.04286033, 0.04602277, 0.05398467,\n",
       "       0.05738894, 0.05714711, 0.05569611, 0.04421832, 0.04514845,\n",
       "       0.04605997, 0.04412531, 0.03675869, 0.04486941, 0.05065481,\n",
       "       0.05214302, 0.05612397, 0.05818885, 0.06540665, 0.06882953,\n",
       "       0.07243843, 0.07993526, 0.07846566, 0.08034452, 0.08497656])"
      ]
     },
     "execution_count": 7,
     "metadata": {},
     "output_type": "execute_result"
    }
   ],
   "source": [
    "X_train[0]"
   ]
  },
  {
   "cell_type": "code",
   "execution_count": 8,
   "id": "d4c0b267",
   "metadata": {},
   "outputs": [
    {
     "data": {
      "text/plain": [
       "0.08627874097775134"
      ]
     },
     "execution_count": 8,
     "metadata": {},
     "output_type": "execute_result"
    }
   ],
   "source": [
    "y_train[0]"
   ]
  },
  {
   "cell_type": "markdown",
   "id": "85ef029d",
   "metadata": {},
   "source": [
    "## Reshaping \n",
    "RNN requires a 3D input shape"
   ]
  },
  {
   "cell_type": "code",
   "execution_count": 9,
   "id": "7498226f",
   "metadata": {},
   "outputs": [],
   "source": [
    "X_train = np.reshape(X_train, (X_train.shape[0], X_train.shape[1], 1))"
   ]
  },
  {
   "cell_type": "code",
   "execution_count": 10,
   "id": "f68d0f4f",
   "metadata": {},
   "outputs": [],
   "source": [
    "# X_train"
   ]
  },
  {
   "cell_type": "markdown",
   "id": "dc33da04",
   "metadata": {},
   "source": [
    "## Modeling"
   ]
  },
  {
   "cell_type": "code",
   "execution_count": 11,
   "id": "6f09c166",
   "metadata": {},
   "outputs": [],
   "source": [
    "import tensorflow as tf\n",
    "from tensorflow.keras.models import Sequential\n",
    "from tensorflow.keras.layers import Dense, LSTM, Dropout"
   ]
  },
  {
   "cell_type": "code",
   "execution_count": 12,
   "id": "f8e43abe",
   "metadata": {},
   "outputs": [],
   "source": [
    "model = Sequential()\n",
    "model.add(LSTM(units=50, return_sequences=True, input_shape=(X_train.shape[1], 1)))\n",
    "model.add(Dropout(.2))\n",
    "\n",
    "model.add(LSTM(units=50, return_sequences=True))\n",
    "model.add(Dropout(.2))\n",
    "\n",
    "model.add(LSTM(units=50, return_sequences=True))\n",
    "model.add(Dropout(.2))\n",
    "\n",
    "model.add(LSTM(units=50, return_sequences=False))\n",
    "model.add(Dropout(.2))\n",
    "\n",
    "model.add(Dense(1))"
   ]
  },
  {
   "cell_type": "code",
   "execution_count": 13,
   "id": "65ee3b12",
   "metadata": {},
   "outputs": [],
   "source": [
    "model.compile(optimizer='adam', loss='mean_squared_error')"
   ]
  },
  {
   "cell_type": "code",
   "execution_count": 14,
   "id": "32d704e3",
   "metadata": {},
   "outputs": [
    {
     "name": "stdout",
     "output_type": "stream",
     "text": [
      "Epoch 1/150\n",
      "38/38 [==============================] - 14s 150ms/step - loss: 0.0410\n",
      "Epoch 2/150\n",
      "38/38 [==============================] - 6s 159ms/step - loss: 0.0070\n",
      "Epoch 3/150\n",
      "38/38 [==============================] - 7s 172ms/step - loss: 0.0062\n",
      "Epoch 4/150\n",
      "38/38 [==============================] - 5s 139ms/step - loss: 0.0048\n",
      "Epoch 5/150\n",
      "38/38 [==============================] - 6s 153ms/step - loss: 0.0049\n",
      "Epoch 6/150\n",
      "38/38 [==============================] - 6s 145ms/step - loss: 0.0046\n",
      "Epoch 7/150\n",
      "38/38 [==============================] - 6s 151ms/step - loss: 0.0046\n",
      "Epoch 8/150\n",
      "38/38 [==============================] - 6s 153ms/step - loss: 0.0041\n",
      "Epoch 9/150\n",
      "38/38 [==============================] - 6s 160ms/step - loss: 0.0040\n",
      "Epoch 10/150\n",
      "38/38 [==============================] - 6s 144ms/step - loss: 0.0039\n",
      "Epoch 11/150\n",
      "38/38 [==============================] - 4s 114ms/step - loss: 0.0046\n",
      "Epoch 12/150\n",
      "38/38 [==============================] - 5s 132ms/step - loss: 0.0037\n",
      "Epoch 13/150\n",
      "38/38 [==============================] - 5s 138ms/step - loss: 0.0037\n",
      "Epoch 14/150\n",
      "38/38 [==============================] - 5s 138ms/step - loss: 0.0040\n",
      "Epoch 15/150\n",
      "38/38 [==============================] - 6s 150ms/step - loss: 0.0038\n",
      "Epoch 16/150\n",
      "38/38 [==============================] - 6s 164ms/step - loss: 0.0037\n",
      "Epoch 17/150\n",
      "38/38 [==============================] - 5s 141ms/step - loss: 0.0041\n",
      "Epoch 18/150\n",
      "38/38 [==============================] - 6s 148ms/step - loss: 0.0031\n",
      "Epoch 19/150\n",
      "38/38 [==============================] - 6s 167ms/step - loss: 0.0036\n",
      "Epoch 20/150\n",
      "38/38 [==============================] - 4s 102ms/step - loss: 0.0036\n",
      "Epoch 21/150\n",
      "38/38 [==============================] - 6s 160ms/step - loss: 0.0032\n",
      "Epoch 22/150\n",
      "38/38 [==============================] - 6s 148ms/step - loss: 0.0035\n",
      "Epoch 23/150\n",
      "38/38 [==============================] - 7s 174ms/step - loss: 0.0032\n",
      "Epoch 24/150\n",
      "38/38 [==============================] - 6s 155ms/step - loss: 0.0028\n",
      "Epoch 25/150\n",
      "38/38 [==============================] - 4s 104ms/step - loss: 0.0033\n",
      "Epoch 26/150\n",
      "38/38 [==============================] - 4s 116ms/step - loss: 0.0030\n",
      "Epoch 27/150\n",
      "38/38 [==============================] - 6s 150ms/step - loss: 0.0032\n",
      "Epoch 28/150\n",
      "38/38 [==============================] - 6s 155ms/step - loss: 0.0028\n",
      "Epoch 29/150\n",
      "38/38 [==============================] - 6s 156ms/step - loss: 0.0032\n",
      "Epoch 30/150\n",
      "38/38 [==============================] - 5s 130ms/step - loss: 0.0032\n",
      "Epoch 31/150\n",
      "38/38 [==============================] - 4s 116ms/step - loss: 0.0029\n",
      "Epoch 32/150\n",
      "38/38 [==============================] - 4s 108ms/step - loss: 0.0026\n",
      "Epoch 33/150\n",
      "38/38 [==============================] - 5s 143ms/step - loss: 0.0030\n",
      "Epoch 34/150\n",
      "38/38 [==============================] - 6s 150ms/step - loss: 0.0035\n",
      "Epoch 35/150\n",
      "38/38 [==============================] - 6s 147ms/step - loss: 0.0029\n",
      "Epoch 36/150\n",
      "38/38 [==============================] - 6s 156ms/step - loss: 0.0024\n",
      "Epoch 37/150\n",
      "38/38 [==============================] - 6s 153ms/step - loss: 0.0026\n",
      "Epoch 38/150\n",
      "38/38 [==============================] - 5s 132ms/step - loss: 0.0024\n",
      "Epoch 39/150\n",
      "38/38 [==============================] - 5s 135ms/step - loss: 0.0024\n",
      "Epoch 40/150\n",
      "38/38 [==============================] - 4s 118ms/step - loss: 0.0026\n",
      "Epoch 41/150\n",
      "38/38 [==============================] - 5s 134ms/step - loss: 0.0025\n",
      "Epoch 42/150\n",
      "38/38 [==============================] - 5s 136ms/step - loss: 0.0024\n",
      "Epoch 43/150\n",
      "38/38 [==============================] - 5s 144ms/step - loss: 0.0022\n",
      "Epoch 44/150\n",
      "38/38 [==============================] - 6s 160ms/step - loss: 0.0026\n",
      "Epoch 45/150\n",
      "38/38 [==============================] - 5s 133ms/step - loss: 0.0027\n",
      "Epoch 46/150\n",
      "38/38 [==============================] - 6s 167ms/step - loss: 0.0027\n",
      "Epoch 47/150\n",
      "38/38 [==============================] - 5s 132ms/step - loss: 0.0025\n",
      "Epoch 48/150\n",
      "38/38 [==============================] - 6s 159ms/step - loss: 0.0025\n",
      "Epoch 49/150\n",
      "38/38 [==============================] - 5s 136ms/step - loss: 0.0022\n",
      "Epoch 50/150\n",
      "38/38 [==============================] - 5s 141ms/step - loss: 0.0023\n",
      "Epoch 51/150\n",
      "38/38 [==============================] - 6s 168ms/step - loss: 0.0025\n",
      "Epoch 52/150\n",
      "38/38 [==============================] - 5s 128ms/step - loss: 0.0024\n",
      "Epoch 53/150\n",
      "38/38 [==============================] - 5s 140ms/step - loss: 0.0021\n",
      "Epoch 54/150\n",
      "38/38 [==============================] - 6s 152ms/step - loss: 0.0023\n",
      "Epoch 55/150\n",
      "38/38 [==============================] - 5s 130ms/step - loss: 0.0022\n",
      "Epoch 56/150\n",
      "38/38 [==============================] - 6s 153ms/step - loss: 0.0019\n",
      "Epoch 57/150\n",
      "38/38 [==============================] - 6s 152ms/step - loss: 0.0021\n",
      "Epoch 58/150\n",
      "38/38 [==============================] - 6s 152ms/step - loss: 0.0021\n",
      "Epoch 59/150\n",
      "38/38 [==============================] - 5s 137ms/step - loss: 0.0019\n",
      "Epoch 60/150\n",
      "38/38 [==============================] - 6s 164ms/step - loss: 0.0021\n",
      "Epoch 61/150\n",
      "38/38 [==============================] - 5s 144ms/step - loss: 0.0017\n",
      "Epoch 62/150\n",
      "38/38 [==============================] - 5s 142ms/step - loss: 0.0019\n",
      "Epoch 63/150\n",
      "38/38 [==============================] - 6s 163ms/step - loss: 0.0019\n",
      "Epoch 64/150\n",
      "38/38 [==============================] - 5s 135ms/step - loss: 0.0018\n",
      "Epoch 65/150\n",
      "38/38 [==============================] - 7s 174ms/step - loss: 0.0018\n",
      "Epoch 66/150\n",
      "38/38 [==============================] - 7s 179ms/step - loss: 0.0016\n",
      "Epoch 67/150\n",
      "38/38 [==============================] - 6s 163ms/step - loss: 0.0016\n",
      "Epoch 68/150\n",
      "38/38 [==============================] - 7s 174ms/step - loss: 0.0018\n",
      "Epoch 69/150\n",
      "38/38 [==============================] - 7s 176ms/step - loss: 0.0020\n",
      "Epoch 70/150\n",
      "38/38 [==============================] - 7s 179ms/step - loss: 0.0015\n",
      "Epoch 71/150\n",
      "38/38 [==============================] - 6s 168ms/step - loss: 0.0016\n",
      "Epoch 72/150\n",
      "38/38 [==============================] - 7s 178ms/step - loss: 0.0017\n",
      "Epoch 73/150\n",
      "38/38 [==============================] - 7s 177ms/step - loss: 0.0016\n",
      "Epoch 74/150\n",
      "38/38 [==============================] - 6s 165ms/step - loss: 0.0015\n",
      "Epoch 75/150\n",
      "38/38 [==============================] - 7s 171ms/step - loss: 0.0018\n",
      "Epoch 76/150\n",
      "38/38 [==============================] - 7s 174ms/step - loss: 0.0017\n",
      "Epoch 77/150\n",
      "38/38 [==============================] - 5s 144ms/step - loss: 0.0017\n",
      "Epoch 78/150\n",
      "38/38 [==============================] - 5s 132ms/step - loss: 0.0019\n",
      "Epoch 79/150\n",
      "38/38 [==============================] - 4s 104ms/step - loss: 0.0016\n",
      "Epoch 80/150\n",
      "38/38 [==============================] - 4s 100ms/step - loss: 0.0017\n",
      "Epoch 81/150\n",
      "38/38 [==============================] - 5s 126ms/step - loss: 0.0016\n",
      "Epoch 82/150\n",
      "38/38 [==============================] - 5s 132ms/step - loss: 0.0016\n",
      "Epoch 83/150\n",
      "38/38 [==============================] - 6s 149ms/step - loss: 0.0015\n",
      "Epoch 84/150\n",
      "38/38 [==============================] - 5s 125ms/step - loss: 0.0016\n",
      "Epoch 85/150\n",
      "38/38 [==============================] - 5s 141ms/step - loss: 0.0016\n",
      "Epoch 86/150\n",
      "38/38 [==============================] - 6s 149ms/step - loss: 0.0015\n",
      "Epoch 87/150\n",
      "38/38 [==============================] - 5s 144ms/step - loss: 0.0018\n",
      "Epoch 88/150\n",
      "38/38 [==============================] - 6s 145ms/step - loss: 0.0015\n",
      "Epoch 89/150\n",
      "38/38 [==============================] - 6s 146ms/step - loss: 0.0015\n",
      "Epoch 90/150\n",
      "38/38 [==============================] - 5s 141ms/step - loss: 0.0014\n",
      "Epoch 91/150\n",
      "38/38 [==============================] - 7s 172ms/step - loss: 0.0014\n",
      "Epoch 92/150\n",
      "38/38 [==============================] - 6s 168ms/step - loss: 0.0015\n",
      "Epoch 93/150\n",
      "38/38 [==============================] - 4s 110ms/step - loss: 0.0013\n",
      "Epoch 94/150\n",
      "38/38 [==============================] - 4s 106ms/step - loss: 0.0015\n",
      "Epoch 95/150\n",
      "38/38 [==============================] - 4s 113ms/step - loss: 0.0015\n",
      "Epoch 96/150\n",
      "38/38 [==============================] - 5s 125ms/step - loss: 0.0016\n",
      "Epoch 97/150\n",
      "38/38 [==============================] - 5s 129ms/step - loss: 0.0015\n",
      "Epoch 98/150\n",
      "38/38 [==============================] - 5s 133ms/step - loss: 0.0015\n",
      "Epoch 99/150\n"
     ]
    },
    {
     "name": "stdout",
     "output_type": "stream",
     "text": [
      "38/38 [==============================] - 5s 129ms/step - loss: 0.0015\n",
      "Epoch 100/150\n",
      "38/38 [==============================] - 6s 145ms/step - loss: 0.0013\n",
      "Epoch 101/150\n",
      "38/38 [==============================] - 4s 115ms/step - loss: 0.0015\n",
      "Epoch 102/150\n",
      "38/38 [==============================] - 5s 124ms/step - loss: 0.0012\n",
      "Epoch 103/150\n",
      "38/38 [==============================] - 5s 133ms/step - loss: 0.0014\n",
      "Epoch 104/150\n",
      "38/38 [==============================] - 5s 132ms/step - loss: 0.0013\n",
      "Epoch 105/150\n",
      "38/38 [==============================] - 5s 134ms/step - loss: 0.0013\n",
      "Epoch 106/150\n",
      "38/38 [==============================] - 5s 127ms/step - loss: 0.0016\n",
      "Epoch 107/150\n",
      "38/38 [==============================] - 5s 133ms/step - loss: 0.0015\n",
      "Epoch 108/150\n",
      "38/38 [==============================] - 6s 146ms/step - loss: 0.0014\n",
      "Epoch 109/150\n",
      "38/38 [==============================] - 5s 140ms/step - loss: 0.0013\n",
      "Epoch 110/150\n",
      "38/38 [==============================] - 4s 116ms/step - loss: 0.0013\n",
      "Epoch 111/150\n",
      "38/38 [==============================] - 5s 122ms/step - loss: 0.0014\n",
      "Epoch 112/150\n",
      "38/38 [==============================] - 5s 128ms/step - loss: 0.0013\n",
      "Epoch 113/150\n",
      "38/38 [==============================] - 5s 142ms/step - loss: 0.0014\n",
      "Epoch 114/150\n",
      "38/38 [==============================] - 6s 153ms/step - loss: 0.0013\n",
      "Epoch 115/150\n",
      "38/38 [==============================] - 4s 105ms/step - loss: 0.0014\n",
      "Epoch 116/150\n",
      "38/38 [==============================] - 5s 145ms/step - loss: 0.0013\n",
      "Epoch 117/150\n",
      "38/38 [==============================] - 5s 135ms/step - loss: 0.0012\n",
      "Epoch 118/150\n",
      "38/38 [==============================] - 5s 123ms/step - loss: 0.0012\n",
      "Epoch 119/150\n",
      "38/38 [==============================] - 5s 143ms/step - loss: 0.0016\n",
      "Epoch 120/150\n",
      "38/38 [==============================] - 5s 139ms/step - loss: 0.0014\n",
      "Epoch 121/150\n",
      "38/38 [==============================] - 4s 110ms/step - loss: 0.0013\n",
      "Epoch 122/150\n",
      "38/38 [==============================] - 5s 130ms/step - loss: 0.0011\n",
      "Epoch 123/150\n",
      "38/38 [==============================] - 5s 136ms/step - loss: 0.0012\n",
      "Epoch 124/150\n",
      "38/38 [==============================] - 5s 132ms/step - loss: 0.0011\n",
      "Epoch 125/150\n",
      "38/38 [==============================] - 5s 121ms/step - loss: 0.0013\n",
      "Epoch 126/150\n",
      "38/38 [==============================] - 5s 124ms/step - loss: 0.0011\n",
      "Epoch 127/150\n",
      "38/38 [==============================] - 5s 131ms/step - loss: 0.0012\n",
      "Epoch 128/150\n",
      "38/38 [==============================] - 5s 136ms/step - loss: 0.0010\n",
      "Epoch 129/150\n",
      "38/38 [==============================] - 5s 130ms/step - loss: 0.0011\n",
      "Epoch 130/150\n",
      "38/38 [==============================] - 5s 126ms/step - loss: 0.0011\n",
      "Epoch 131/150\n",
      "38/38 [==============================] - 5s 131ms/step - loss: 0.0010\n",
      "Epoch 132/150\n",
      "38/38 [==============================] - 5s 130ms/step - loss: 0.0011\n",
      "Epoch 133/150\n",
      "38/38 [==============================] - 5s 133ms/step - loss: 0.0012\n",
      "Epoch 134/150\n",
      "38/38 [==============================] - 5s 124ms/step - loss: 0.0010\n",
      "Epoch 135/150\n",
      "38/38 [==============================] - 5s 132ms/step - loss: 0.0012\n",
      "Epoch 136/150\n",
      "38/38 [==============================] - 5s 131ms/step - loss: 0.0011\n",
      "Epoch 137/150\n",
      "38/38 [==============================] - 5s 127ms/step - loss: 0.0012\n",
      "Epoch 138/150\n",
      "38/38 [==============================] - 5s 138ms/step - loss: 0.0010\n",
      "Epoch 139/150\n",
      "38/38 [==============================] - 5s 129ms/step - loss: 0.0011\n",
      "Epoch 140/150\n",
      "38/38 [==============================] - 5s 129ms/step - loss: 0.0012\n",
      "Epoch 141/150\n",
      "38/38 [==============================] - 5s 128ms/step - loss: 0.0011\n",
      "Epoch 142/150\n",
      "38/38 [==============================] - 5s 132ms/step - loss: 0.0011\n",
      "Epoch 143/150\n",
      "38/38 [==============================] - 5s 144ms/step - loss: 0.0012\n",
      "Epoch 144/150\n",
      "38/38 [==============================] - 5s 126ms/step - loss: 0.0013\n",
      "Epoch 145/150\n",
      "38/38 [==============================] - 5s 126ms/step - loss: 0.0011\n",
      "Epoch 146/150\n",
      "38/38 [==============================] - 5s 131ms/step - loss: 0.0012\n",
      "Epoch 147/150\n",
      "38/38 [==============================] - 7s 177ms/step - loss: 0.0012\n",
      "Epoch 148/150\n",
      "38/38 [==============================] - 6s 170ms/step - loss: 0.0011\n",
      "Epoch 149/150\n",
      "38/38 [==============================] - 6s 156ms/step - loss: 0.0011\n",
      "Epoch 150/150\n",
      "38/38 [==============================] - 6s 169ms/step - loss: 0.0011\n"
     ]
    },
    {
     "data": {
      "text/plain": [
       "<keras.callbacks.History at 0x2a5ef20fdf0>"
      ]
     },
     "execution_count": 14,
     "metadata": {},
     "output_type": "execute_result"
    }
   ],
   "source": [
    "model.fit(X_train, y_train, epochs=150, batch_size=32)"
   ]
  },
  {
   "cell_type": "markdown",
   "id": "5bba8d76",
   "metadata": {},
   "source": [
    "# Loss plot"
   ]
  },
  {
   "cell_type": "code",
   "execution_count": 15,
   "id": "cd80394c",
   "metadata": {},
   "outputs": [
    {
     "data": {
      "image/png": "[encoded data removed]",
      "text/plain": [
       "<Figure size 640x480 with 1 Axes>"
      ]
     },
     "metadata": {},
     "output_type": "display_data"
    }
   ],
   "source": [
    "plt.plot(model.history.history['loss'])\n",
    "plt.show()"
   ]
  },
  {
   "cell_type": "markdown",
   "id": "c6c81f68",
   "metadata": {},
   "source": [
    "## Performance evaluation"
   ]
  },
  {
   "cell_type": "code",
   "execution_count": 16,
   "id": "7889c9a7",
   "metadata": {},
   "outputs": [],
   "source": [
    "test = pd.read_csv('dataset/Google_Stock_Price_Test.csv')\n",
    "y_true = test.iloc[:,1:2].values"
   ]
  },
  {
   "cell_type": "code",
   "execution_count": 17,
   "id": "355ad7c5",
   "metadata": {},
   "outputs": [],
   "source": [
    "dataset_total = pd.concat([df['Open'],test['Open']], axis=0)\n",
    "inputs = dataset_total[len(dataset_total)-len(test)-60:].values"
   ]
  },
  {
   "cell_type": "code",
   "execution_count": 18,
   "id": "f6e0f437",
   "metadata": {},
   "outputs": [],
   "source": [
    "inputs = inputs.reshape(-1,1)"
   ]
  },
  {
   "cell_type": "code",
   "execution_count": 19,
   "id": "6271327c",
   "metadata": {},
   "outputs": [],
   "source": [
    "inputs = scaler.transform(inputs)"
   ]
  },
  {
   "cell_type": "code",
   "execution_count": 20,
   "id": "507689cd",
   "metadata": {},
   "outputs": [
    {
     "name": "stdout",
     "output_type": "stream",
     "text": [
      "1/1 [==============================] - 1s 1s/step\n"
     ]
    }
   ],
   "source": [
    "X_test = []\n",
    "for i in range(60, 80):\n",
    "    X_test.append(inputs[i-60:i, 0])\n",
    "\n",
    "X_test = np.array(X_test)\n",
    "X_test = np.reshape(X_test, (X_test.shape[0], X_test.shape[1], 1))\n",
    "y_pred = model.predict(X_test)\n",
    "# inverse the scaling\n",
    "y_pred = scaler.inverse_transform(y_pred)"
   ]
  },
  {
   "cell_type": "markdown",
   "id": "d82e2c35",
   "metadata": {},
   "source": [
    "## Visualize"
   ]
  },
  {
   "cell_type": "code",
   "execution_count": 21,
   "id": "5b4d4f0e",
   "metadata": {},
   "outputs": [
    {
     "data": {
      "text/plain": [
       "[<matplotlib.lines.Line2D at 0x2a5fe2b4640>]"
      ]
     },
     "execution_count": 21,
     "metadata": {},
     "output_type": "execute_result"
    },
    {
     "data": {
      "image/png": "[encoded data removed]",
      "text/plain": [
       "<Figure size 640x480 with 1 Axes>"
      ]
     },
     "metadata": {},
     "output_type": "display_data"
    }
   ],
   "source": [
    "plt.plot(y_true, color='r', label='Real stock price')\n",
    "plt.plot(y_pred, color='g', label='Predicted stock price')"
   ]
  },
  {
   "cell_type": "code",
   "execution_count": null,
   "id": "9b451662",
   "metadata": {},
   "outputs": [],
   "source": []
  }
 ],
 "metadata": {
  "kernelspec": {
   "display_name": "Python 3 (ipykernel)",
   "language": "python",
   "name": "python3"
  },
  "language_info": {
   "codemirror_mode": {
    "name": "ipython",
    "version": 3
   },
   "file_extension": ".py",
   "mimetype": "text/x-python",
   "name": "python",
   "nbconvert_exporter": "python",
   "pygments_lexer": "ipython3",
   "version": "3.9.6"
  }
 },
 "nbformat": 4,
 "nbformat_minor": 5
}
